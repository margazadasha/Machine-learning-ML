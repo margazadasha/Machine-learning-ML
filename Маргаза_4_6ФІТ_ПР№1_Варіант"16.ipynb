{
  "nbformat": 4,
  "nbformat_minor": 0,
  "metadata": {
    "colab": {
      "provenance": [],
      "authorship_tag": "ABX9TyPJKfMTBbXXSKYtExgg8j35",
      "include_colab_link": true
    },
    "kernelspec": {
      "name": "python3",
      "display_name": "Python 3"
    },
    "language_info": {
      "name": "python"
    }
  },
  "cells": [
    {
      "cell_type": "markdown",
      "metadata": {
        "id": "view-in-github",
        "colab_type": "text"
      },
      "source": [
        "<a href=\"https://colab.research.google.com/github/margazadasha/Machine-learning-ML/blob/main/%D0%9C%D0%B0%D1%80%D0%B3%D0%B0%D0%B7%D0%B0_4_6%D0%A4%D0%86%D0%A2_%D0%9F%D0%A0%E2%84%961_%D0%92%D0%B0%D1%80%D1%96%D0%B0%D0%BD%D1%82%2216.ipynb\" target=\"_parent\"><img src=\"https://colab.research.google.com/assets/colab-badge.svg\" alt=\"Open In Colab\"/></a>"
      ]
    },
    {
      "cell_type": "markdown",
      "source": [
        "# Лабораторна робота №1.\n",
        "Вступ до машинного навчання. Елементи лінійної алгебри.\n",
        "# Варіант №16"
      ],
      "metadata": {
        "id": "kaawi85hPWNf"
      }
    },
    {
      "cell_type": "code",
      "source": [
        "!pip install numpy"
      ],
      "metadata": {
        "colab": {
          "base_uri": "https://localhost:8080/"
        },
        "id": "d0UpsNz16ic6",
        "outputId": "20e80bff-23b2-4b94-929b-9a6a29461248"
      },
      "execution_count": null,
      "outputs": [
        {
          "output_type": "stream",
          "name": "stdout",
          "text": [
            "Requirement already satisfied: numpy in /usr/local/lib/python3.10/dist-packages (1.26.4)\n"
          ]
        }
      ]
    },
    {
      "cell_type": "code",
      "source": [
        "import numpy as np\n",
        "numpy_version = np.__version__\n",
        "print(f\"NumPy version: {numpy_version}\")"
      ],
      "metadata": {
        "colab": {
          "base_uri": "https://localhost:8080/"
        },
        "id": "2YeA_X-Z62Cg",
        "outputId": "b2104418-d868-458d-fc10-2847d8c2c36e"
      },
      "execution_count": null,
      "outputs": [
        {
          "output_type": "stream",
          "name": "stdout",
          "text": [
            "NumPy version: 1.26.4\n"
          ]
        }
      ]
    },
    {
      "cell_type": "code",
      "source": [
        "#Завдання 1\n",
        "#Створіть одновимірний масив (вектор) з найменшими непарними числами, не менше 15, та виведіть його значення.\n",
        "import numpy as np\n",
        "odd_nembers_array = np.arange(15, 35, 2)\n",
        "print (odd_nembers_array)"
      ],
      "metadata": {
        "colab": {
          "base_uri": "https://localhost:8080/"
        },
        "id": "fh_VxDuZ6J4Y",
        "outputId": "98635c88-139d-4dd9-c754-32ea3fa600cb"
      },
      "execution_count": null,
      "outputs": [
        {
          "output_type": "stream",
          "name": "stdout",
          "text": [
            "[15 17 19 21 23 25 27 29 31 33]\n"
          ]
        }
      ]
    },
    {
      "cell_type": "code",
      "source": [
        "#Завдання 2\n",
        "#Створіть двовимірний масив (матрицю), розміром 3х3, заповніть його значеннями випадкових дійсних чисел від 0 до одиниці.\n",
        "import numpy as np\n",
        "random_matrix = np.random.rand(3, 3)\n",
        "print(random_matrix)"
      ],
      "metadata": {
        "colab": {
          "base_uri": "https://localhost:8080/"
        },
        "id": "ZA3ZMrBd9f_y",
        "outputId": "b9a7039f-9bb3-49c9-868f-4f23cf83db9b"
      },
      "execution_count": null,
      "outputs": [
        {
          "output_type": "stream",
          "name": "stdout",
          "text": [
            "[[0.18973741 0.10256341 0.19335169]\n",
            " [0.94412369 0.44261312 0.49646154]\n",
            " [0.9075821  0.61758917 0.60302958]]\n"
          ]
        }
      ]
    },
    {
      "cell_type": "code",
      "source": [
        "#Завдання 3\n",
        "#Створіть масив, розміром 3х3, заповніть його випадковими дійсними числами від 0 до одиниці та знайдіть мін. елемент.\n",
        "import numpy as np\n",
        "rand_matrix = np.random.rand(3, 3)\n",
        "min_element = np.min(rand_matrix)\n",
        "\n",
        "print(\"Масив 3x3 з випадковими дійсними числами:\")\n",
        "print(rand_matrix)\n",
        "print(\"\\nМінімальний елемент у масиві:\", min_element)"
      ],
      "metadata": {
        "colab": {
          "base_uri": "https://localhost:8080/"
        },
        "id": "DfnBnmra-wzM",
        "outputId": "92286f6f-02c0-4b21-c061-d7e437e19675"
      },
      "execution_count": null,
      "outputs": [
        {
          "output_type": "stream",
          "name": "stdout",
          "text": [
            "Масив 3x3 з випадковими дійсними числами:\n",
            "[[0.16368504 0.28401406 0.55336913]\n",
            " [0.18717247 0.56666741 0.6536959 ]\n",
            " [0.17916318 0.04390464 0.66831113]]\n",
            "\n",
            "Мінімальний елемент у масиві: 0.043904638941878904\n"
          ]
        }
      ]
    },
    {
      "cell_type": "code",
      "source": [
        "#Завдання 4\n",
        "#Створіть масив, розміром 3х3, заповніть його випадковими дійсними числами в діапазоні від 0 до 1 та знайдіть вектор-стовпчик,\n",
        "#що містить мінімальні елементи в кожному рядку.\n",
        "import numpy as np\n",
        "matrix = np.random.rand(3, 3)\n",
        "\n",
        "min_elements_vector = np.min(matrix, axis = 1)\n",
        "min_elements_vector = min_elements_vector.reshape(-1, 1)\n",
        "\n",
        "print(\"Масив 3x3 з випадковими дійсними числами:\")\n",
        "print(matrix)\n",
        "print(\"\\nВектор-стовпчик мінімальних елементів у кожному рядку:\")\n",
        "print(min_elements_vector)"
      ],
      "metadata": {
        "colab": {
          "base_uri": "https://localhost:8080/"
        },
        "id": "Ya4wiJV6ACDf",
        "outputId": "350ceafd-4f08-4ca2-eb56-0c703a839147"
      },
      "execution_count": null,
      "outputs": [
        {
          "output_type": "stream",
          "name": "stdout",
          "text": [
            "Масив 3x3 з випадковими дійсними числами:\n",
            "[[0.55213023 0.75901614 0.30510399]\n",
            " [0.69125609 0.28273091 0.85729865]\n",
            " [0.97341306 0.87278408 0.96291988]]\n",
            "\n",
            "Вектор-стовпчик мінімальних елементів у кожному рядку:\n",
            "[[0.30510399]\n",
            " [0.28273091]\n",
            " [0.87278408]]\n"
          ]
        }
      ]
    },
    {
      "cell_type": "code",
      "source": [
        "#Завдання 5\n",
        "#Створіть два одновимірних масиви, розміром 4, заповніть їх випадковими цілими числами від -5 до 5 та виконайте на них\n",
        "#поелементні операції додавання, віднімання та множення.\n",
        "import numpy as np\n",
        "array1 = np.random.randint(-5, 6, 4)\n",
        "array2 = np.random.randint(-5, 6, 4)\n",
        "\n",
        "sum_arrays = array1 + array2\n",
        "difference_arrays = array1 - array2\n",
        "product_arrays = array1 * array2\n",
        "\n",
        "print(\"Перший масив:\", array1)\n",
        "print(\"Другий масив:\", array2)\n",
        "\n",
        "print(\"\\nРезультат додавання:\", sum_arrays)\n",
        "print(\"Результат віднімання:\", difference_arrays)\n",
        "print(\"Результат множення:\", product_arrays)"
      ],
      "metadata": {
        "colab": {
          "base_uri": "https://localhost:8080/"
        },
        "id": "sxKJ0RkFCpb0",
        "outputId": "9de290c3-c86f-4f35-a1f5-efd228fc2fcc"
      },
      "execution_count": null,
      "outputs": [
        {
          "output_type": "stream",
          "name": "stdout",
          "text": [
            "Перший масив: [ 1  2 -5  4]\n",
            "Другий масив: [-4 -5  1  4]\n",
            "\n",
            "Результат додавання: [-3 -3 -4  8]\n",
            "Результат віднімання: [ 5  7 -6  0]\n",
            "Результат множення: [ -4 -10  -5  16]\n"
          ]
        }
      ]
    },
    {
      "cell_type": "code",
      "source": [
        "#Завдання 6\n",
        "#Створіть дві матриці 3х3, заповіть їх довільними цілими числами від 0 до 10 та знайдіть їх добуток.\n",
        "import numpy as np\n",
        "matrix1 = np.random.randint(10, size=(3,3))\n",
        "matrix2 = np.random.randint(10, size=(3,3))\n",
        "product_matrix = matrix1 * matrix2\n",
        "\n",
        "print(\"Перша матриця:\")\n",
        "print(matrix1)\n",
        "print(\"Друга матриця:\")\n",
        "print(matrix2)\n",
        "\n",
        "print(\"\\nРезультат множення:\")\n",
        "print(product_matrix)"
      ],
      "metadata": {
        "colab": {
          "base_uri": "https://localhost:8080/"
        },
        "id": "panikVk6D38x",
        "outputId": "72f0b791-896d-4e4f-f99d-b7e354a9dfec"
      },
      "execution_count": null,
      "outputs": [
        {
          "output_type": "stream",
          "name": "stdout",
          "text": [
            "Перша матриця:\n",
            "[[1 5 7]\n",
            " [5 1 2]\n",
            " [8 4 8]]\n",
            "Друга матриця:\n",
            "[[5 1 2]\n",
            " [7 2 8]\n",
            " [7 6 3]]\n",
            "\n",
            "Результат множення:\n",
            "[[ 5  5 14]\n",
            " [35  2 16]\n",
            " [56 24 24]]\n"
          ]
        }
      ]
    },
    {
      "cell_type": "code",
      "source": [
        "#Завдання 7\n",
        "#Створіть дві матриці, розмірами 2х3 та 3х3, заповніть їх випадковими цілими числами в діапазоні від 1 до 4 та перемножте їх між собою.\n",
        "import numpy as np\n",
        "matrix1 = np.random.randint(1, 5, (2, 3))\n",
        "matrix2 = np.random.randint(1, 5, (3, 3))\n",
        "result_matrix = np.dot(matrix1, matrix2)\n",
        "\n",
        "print(\"Перша матриця:\")\n",
        "print(matrix1)\n",
        "print(\"Друга матриця:\")\n",
        "print(matrix2)\n",
        "\n",
        "print(\"\\nРезультат множення:\")\n",
        "print(result_matrix)"
      ],
      "metadata": {
        "colab": {
          "base_uri": "https://localhost:8080/"
        },
        "id": "hTjlflcDFURX",
        "outputId": "b4156281-a2f3-45f4-b490-9dd8701aa444"
      },
      "execution_count": null,
      "outputs": [
        {
          "output_type": "stream",
          "name": "stdout",
          "text": [
            "Перша матриця:\n",
            "[[3 4 2]\n",
            " [1 4 2]]\n",
            "Друга матриця:\n",
            "[[4 1 2]\n",
            " [2 1 3]\n",
            " [2 2 2]]\n",
            "\n",
            "Результат множення:\n",
            "[[24 11 22]\n",
            " [16  9 18]]\n"
          ]
        }
      ]
    },
    {
      "cell_type": "code",
      "source": [
        "#Завдання 8\n",
        "#Створіть матрицю, розміром 3х3, заповніть її випадковими цілими числами в діапазоні від 1 до 12 та знайдіть її обернену матрицю.\n",
        "matrix = np.random.randint(1, 13, (3, 3))\n",
        "inverse_matrix = np.linalg.inv(matrix)\n",
        "\n",
        "print(\"Початкова матриця (3x3):\")\n",
        "print(matrix)\n",
        "\n",
        "print(\"\\nОбернена матриця:\")\n",
        "print(inverse_matrix)"
      ],
      "metadata": {
        "colab": {
          "base_uri": "https://localhost:8080/"
        },
        "id": "nP-V-zapGhLM",
        "outputId": "2b7b385b-3058-44b8-e952-f72f52b24ae6"
      },
      "execution_count": null,
      "outputs": [
        {
          "output_type": "stream",
          "name": "stdout",
          "text": [
            "Початкова матриця (3x3):\n",
            "[[ 5  3  8]\n",
            " [11  1  7]\n",
            " [ 3  4  2]]\n",
            "\n",
            "Обернена матриця:\n",
            "[[-0.13333333  0.13333333  0.06666667]\n",
            " [-0.00512821 -0.07179487  0.27179487]\n",
            " [ 0.21025641 -0.05641026 -0.14358974]]\n"
          ]
        }
      ]
    },
    {
      "cell_type": "code",
      "source": [
        "#Завдання 9\n",
        "#Створіть матрицю, розміром 4х4, заповніть її випадковими цілими числами в діапазоні від -7 до 7 та транспонуйте її.\n",
        "matrix = np.random.randint(-7, 8, (4, 4))\n",
        "transposed_matrix = matrix.transpose()\n",
        "\n",
        "print(\"Початкова матриця (4x4):\")\n",
        "print(matrix)\n",
        "\n",
        "print(\"\\nОбернена матриця:\")\n",
        "print(transposed_matrix)\n",
        "\n",
        "print(\"Ще один спосіб транспонування матриці:\")\n",
        "print(matrix.T)"
      ],
      "metadata": {
        "colab": {
          "base_uri": "https://localhost:8080/"
        },
        "id": "GJngcayuIn6Y",
        "outputId": "6245d4ec-6577-4e86-8956-5b716d122e16"
      },
      "execution_count": null,
      "outputs": [
        {
          "output_type": "stream",
          "name": "stdout",
          "text": [
            "Початкова матриця (4x4):\n",
            "[[-2  7 -7 -2]\n",
            " [ 3  6 -4 -6]\n",
            " [ 2 -3  3 -4]\n",
            " [-5  1 -4  5]]\n",
            "\n",
            "Обернена матриця:\n",
            "[[-2  3  2 -5]\n",
            " [ 7  6 -3  1]\n",
            " [-7 -4  3 -4]\n",
            " [-2 -6 -4  5]]\n",
            "Ще один спосіб транспонування матриці:\n",
            "[[-2  3  2 -5]\n",
            " [ 7  6 -3  1]\n",
            " [-7 -4  3 -4]\n",
            " [-2 -6 -4  5]]\n"
          ]
        }
      ]
    },
    {
      "cell_type": "code",
      "source": [
        "#Завдання 10\n",
        "#Створіть матрицю, розміром 3х4, та вектор, розміром 4х1, заповніть матрицю випадковими дійсними числами від 0 до 1, а вектор -\n",
        "#випадковими дійсними числами від 0 до 1, і знайдіть добуток матриці на вектор.\n",
        "matrix = np.random.rand(3, 4)\n",
        "vector = np.random.rand(4, 1)\n",
        "\n",
        "result = np.dot(matrix, vector)\n",
        "\n",
        "print(\"Матриця (3x4):\")\n",
        "print(matrix)\n",
        "\n",
        "print(\"\\nВектор (4x1):\")\n",
        "print(vector)\n",
        "\n",
        "print(\"\\nДобуток матриці на вектор:\")\n",
        "print(result)"
      ],
      "metadata": {
        "colab": {
          "base_uri": "https://localhost:8080/"
        },
        "id": "LPXdTysHKYBR",
        "outputId": "0c372f8d-9a37-41c7-e7dc-4db916c1ceb8"
      },
      "execution_count": null,
      "outputs": [
        {
          "output_type": "stream",
          "name": "stdout",
          "text": [
            "Матриця (3x4):\n",
            "[[0.99423306 0.38325597 0.3763015  0.42918832]\n",
            " [0.24951719 0.58327025 0.40415703 0.04812983]\n",
            " [0.43922669 0.78607068 0.73311727 0.84088541]]\n",
            "\n",
            "Вектор (4x1):\n",
            "[[0.90545714]\n",
            " [0.92169966]\n",
            " [0.92125888]\n",
            " [0.78659797]]\n",
            "\n",
            "Добуток матриці на вектор:\n",
            "[[1.93775208]\n",
            " [1.17371919]\n",
            " [2.45905157]]\n"
          ]
        }
      ]
    },
    {
      "cell_type": "code",
      "source": [
        "#Завдання 11\n",
        "#Створіть матрицю, розміром 2х3, та вектор, розміром 3х1, заповніть матрицю випадковими дійсними числами від 0 до 1, а вектор -\n",
        "#випадковими цілими числами від 1 до 10, і знайдіть добуток матриці на вектор.\n",
        "matrix = np.random.rand(2, 3)\n",
        "vector = np.random.randint(1, 11, (3, 1))\n",
        "\n",
        "result = np.dot(matrix, vector)\n",
        "\n",
        "print(\"Матриця (2x3):\")\n",
        "print(matrix)\n",
        "\n",
        "print(\"\\nВектор (3x1):\")\n",
        "print(vector)\n",
        "\n",
        "print(\"\\nДобуток матриці на вектор:\")\n",
        "print(result)"
      ],
      "metadata": {
        "colab": {
          "base_uri": "https://localhost:8080/"
        },
        "id": "v8NkTFD4LTmT",
        "outputId": "71f087dc-05f9-4ad8-df65-0e3d03cebd33"
      },
      "execution_count": null,
      "outputs": [
        {
          "output_type": "stream",
          "name": "stdout",
          "text": [
            "Матриця (2x3):\n",
            "[[0.62387844 0.43706676 0.60472311]\n",
            " [0.01733543 0.90837216 0.87514618]]\n",
            "\n",
            "Вектор (3x1):\n",
            "[[3]\n",
            " [6]\n",
            " [2]]\n",
            "\n",
            "Добуток матриці на вектор:\n",
            "[[5.70348209]\n",
            " [7.25253159]]\n"
          ]
        }
      ]
    },
    {
      "cell_type": "code",
      "source": [
        "#Завдання 12\n",
        "#Створіть дві матриці, розміром 9х9, заповніть їх випадковими цілими числами в діапазоні від 1 до 10 та знайдіть відношення елементів\n",
        "#другого стовпця другої матриці до відповідних елементів першої матриці (поелементне ділення).\n",
        "matrix1 = np.random.randint(1, 11, (9, 9))\n",
        "matrix2 = np.random.randint(1, 11, (9, 9))\n",
        "\n",
        "second_column_matrix2 = matrix2[:, 1]\n",
        "\n",
        "result = second_column_matrix2[:, np.newaxis] / matrix1\n",
        "\n",
        "print(\"Перша матриця (9x9):\")\n",
        "print(matrix1)\n",
        "\n",
        "print(\"\\nДруга матриця (9x9):\")\n",
        "print(matrix2)\n",
        "\n",
        "print(\"\\nВідношення елементів другого стовпця другої матриці до відповідних елементів першої матриці:\")\n",
        "print(result)"
      ],
      "metadata": {
        "colab": {
          "base_uri": "https://localhost:8080/"
        },
        "id": "9HvodPXrMf9x",
        "outputId": "195bcfd5-3521-429a-e45e-e9fe5eec49d4"
      },
      "execution_count": null,
      "outputs": [
        {
          "output_type": "stream",
          "name": "stdout",
          "text": [
            "Перша матриця (9x9):\n",
            "[[ 2  6  2  8  7  6 10  4  3]\n",
            " [ 8  5  4  5  8  2  2 10 10]\n",
            " [ 9  7 10  6  5  6  7  9  3]\n",
            " [ 5  8 10 10  1  1  6 10  3]\n",
            " [ 9 10  8  8  3  7  5  1  6]\n",
            " [ 7  6  2  6  7 10  7  1  2]\n",
            " [ 3  2  4  9  5  5 10  6  9]\n",
            " [ 2  2  1  1  1  7  4  6  8]\n",
            " [ 5  9 10  1  5 10  5  2  1]]\n",
            "\n",
            "Друга матриця (9x9):\n",
            "[[ 6  9  8  7  9 10  2  9  2]\n",
            " [ 5  5  4  1  8  3 10  1  4]\n",
            " [ 4  4  2  8  9  8  6 10  1]\n",
            " [ 6  2  3  6  4 10  2  1  7]\n",
            " [ 7  1  2  5  8  8  9  4  8]\n",
            " [ 5  4  3 10  1  2  4  5  4]\n",
            " [ 5  5  7  4  7  3  3  9  5]\n",
            " [ 2  4  2 10  8  6  4  3  9]\n",
            " [ 3  1  1  4  5  8  2  5  8]]\n",
            "\n",
            "Відношення елементів другого стовпця другої матриці до відповідних елементів першої матриці:\n",
            "[[4.5        1.5        4.5        1.125      1.28571429 1.5\n",
            "  0.9        2.25       3.        ]\n",
            " [0.625      1.         1.25       1.         0.625      2.5\n",
            "  2.5        0.5        0.5       ]\n",
            " [0.44444444 0.57142857 0.4        0.66666667 0.8        0.66666667\n",
            "  0.57142857 0.44444444 1.33333333]\n",
            " [0.4        0.25       0.2        0.2        2.         2.\n",
            "  0.33333333 0.2        0.66666667]\n",
            " [0.11111111 0.1        0.125      0.125      0.33333333 0.14285714\n",
            "  0.2        1.         0.16666667]\n",
            " [0.57142857 0.66666667 2.         0.66666667 0.57142857 0.4\n",
            "  0.57142857 4.         2.        ]\n",
            " [1.66666667 2.5        1.25       0.55555556 1.         1.\n",
            "  0.5        0.83333333 0.55555556]\n",
            " [2.         2.         4.         4.         4.         0.57142857\n",
            "  1.         0.66666667 0.5       ]\n",
            " [0.2        0.11111111 0.1        1.         0.2        0.1\n",
            "  0.2        0.5        1.        ]]\n"
          ]
        }
      ]
    },
    {
      "cell_type": "code",
      "source": [
        "#Завдання 13\n",
        "#Створіть дві матриці, розміром 3х3, заповніть їх випадковими цілими числами в діапазоні від 1 до 10 та знайдіть добуток їх елементів.\n",
        "matrix1 = np.random.randint(1, 11, (3, 3))\n",
        "matrix2 = np.random.randint(1, 11, (3, 3))\n",
        "\n",
        "elementwise_product = matrix1 * matrix2\n",
        "\n",
        "print(\"Перша матриця (3x3):\")\n",
        "print(matrix1)\n",
        "\n",
        "print(\"\\nДруга матриця (3x3):\")\n",
        "print(matrix2)\n",
        "\n",
        "print(\"\\nДобуток відповідних елементів матриць:\")\n",
        "print(elementwise_product)"
      ],
      "metadata": {
        "colab": {
          "base_uri": "https://localhost:8080/"
        },
        "id": "MklAGerRO2w3",
        "outputId": "bb392373-2760-4257-f310-ea1845e51c34"
      },
      "execution_count": null,
      "outputs": [
        {
          "output_type": "stream",
          "name": "stdout",
          "text": [
            "Перша матриця (3x3):\n",
            "[[ 9  5  8]\n",
            " [10  4 10]\n",
            " [ 4  2  8]]\n",
            "\n",
            "Друга матриця (3x3):\n",
            "[[6 8 2]\n",
            " [3 5 3]\n",
            " [4 2 8]]\n",
            "\n",
            "Добуток відповідних елементів матриць:\n",
            "[[54 40 16]\n",
            " [30 20 30]\n",
            " [16  4 64]]\n"
          ]
        }
      ]
    },
    {
      "cell_type": "code",
      "source": [
        "#Завдання 14\n",
        "#Створіть матрицю, розміром 3х3, заповніть її випадковими цілими числами в діапазоні від 1 до 5 та знайдіть\n",
        "#середнє геометричне значення елементів матриці.\n",
        "matrix = np.random.randint(1, 6, (3, 3))\n",
        "\n",
        "#Перетворення матриці в одномірний масив\n",
        "matrix_flat = matrix.flatten()\n",
        "\n",
        "#Обчислення середнього геометричного значення елементів матриці\n",
        "geometric_mean = np.exp(np.mean(np.log(matrix_flat)))\n",
        "\n",
        "print(\"Матриця (3x3):\")\n",
        "print(matrix)\n",
        "\n",
        "print(\"\\nСереднє геометричне значення елементів матриці:\")\n",
        "print(geometric_mean)"
      ],
      "metadata": {
        "colab": {
          "base_uri": "https://localhost:8080/"
        },
        "id": "Du7zrTdRTITG",
        "outputId": "4e38700b-06e2-4e59-ae22-ffe59e9eaaa4"
      },
      "execution_count": null,
      "outputs": [
        {
          "output_type": "stream",
          "name": "stdout",
          "text": [
            "Матриця (3x3):\n",
            "[[5 1 2]\n",
            " [3 2 2]\n",
            " [1 4 5]]\n",
            "\n",
            "Середнє геометричне значення елементів матриці:\n",
            "2.3745374686583927\n"
          ]
        }
      ]
    },
    {
      "cell_type": "code",
      "source": [
        "#Завдання 15\n",
        "#Створіть матрицю, розміром 3х3, заповніть її випадковими дійсними числами в діапазоні від -2 до 2 та знайдіть вектор-стовпчик,\n",
        "#що містить найменше за модулем ціле значення в кожному рядку матриці.\n",
        "matrix = np.random.uniform(-2, 3, (3, 3))\n",
        "\n",
        "#Округлення значення матриці до найближчих цілих чисел\n",
        "matrix_rounded = np.round(matrix).astype(int)\n",
        "\n",
        "#Пошук найменшого за модулем значення в кожному рядку\n",
        "min_abs_values = np.apply_along_axis(lambda row: row[np.abs(row).argmin()], axis=1, arr=matrix_rounded)\n",
        "\n",
        "#Перетворення у вектор-стовпчик\n",
        "result_vector = min_abs_values.reshape(-1, 1)\n",
        "\n",
        "print(\"Матриця (3x3) з дійсними числами:\")\n",
        "print(matrix)\n",
        "\n",
        "print(\"\\nОкруглена матриця (3x3):\")\n",
        "print(matrix_rounded)\n",
        "\n",
        "print(\"\\nВектор-стовпчик з найменшими за модулем значеннями в кожному рядку:\")\n",
        "print(result_vector)"
      ],
      "metadata": {
        "colab": {
          "base_uri": "https://localhost:8080/"
        },
        "id": "Nh26h1UxUIEj",
        "outputId": "49e91d66-ff76-4d2f-b58b-dc320cf05c49"
      },
      "execution_count": null,
      "outputs": [
        {
          "output_type": "stream",
          "name": "stdout",
          "text": [
            "Матриця (3x3) з дійсними числами:\n",
            "[[ 0.27447421  1.07774905 -1.89541732]\n",
            " [ 1.01112799  1.48696508 -0.40199799]\n",
            " [ 2.216024    1.93624408  0.56858244]]\n",
            "\n",
            "Округлена матриця (3x3):\n",
            "[[ 0  1 -2]\n",
            " [ 1  1  0]\n",
            " [ 2  2  1]]\n",
            "\n",
            "Вектор-стовпчик з найменшими за модулем значеннями в кожному рядку:\n",
            "[[0]\n",
            " [0]\n",
            " [1]]\n"
          ]
        }
      ]
    },
    {
      "cell_type": "markdown",
      "source": [
        "Висновок: В рамках даної лабораторної роботи було розглянуто основи лінійної алгебри та їх застосування в машинному навчанні з використанням Python. Ми розглянули створення та виконання різноманітних математичних операцій над матрицями та векторами за допомогою використання бібліотеки NumPy.\n",
        "\n",
        "Таким чином, лабораторна робота продемонструвала важливість елементів лінійної алгебри в контексті машинного навчання і показала, як Python і бібліотека NumPy можуть спростити виконання математичних операцій та аналіз даних. Ці навички є основою для більш складних задач машинного навчання і аналізу даних."
      ],
      "metadata": {
        "id": "0c1gw3-oVbEI"
      }
    }
  ]
}